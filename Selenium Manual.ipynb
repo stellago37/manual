{
 "cells": [
  {
   "cell_type": "code",
   "execution_count": 2,
   "id": "distributed-formation",
   "metadata": {},
   "outputs": [
    {
     "name": "stdout",
     "output_type": "stream",
     "text": [
      "Collecting selenium\n",
      "  Downloading selenium-3.141.0-py2.py3-none-any.whl (904 kB)\n",
      "Requirement already satisfied: urllib3 in c:\\users\\goeun\\anaconda3\\lib\\site-packages (from selenium) (1.26.4)\n",
      "Installing collected packages: selenium\n",
      "Successfully installed selenium-3.141.0\n"
     ]
    }
   ],
   "source": [
    "#pip install selenium"
   ]
  },
  {
   "cell_type": "code",
   "execution_count": 4,
   "id": "scientific-equality",
   "metadata": {},
   "outputs": [],
   "source": [
    "from selenium import webdriver\n",
    "\n",
    "driver = webdriver.Chrome(\"C:/Users/chromedriver.exe\")\n",
    "driver.get('https://www.google.com')"
   ]
  },
  {
   "cell_type": "code",
   "execution_count": 5,
   "id": "single-female",
   "metadata": {},
   "outputs": [
    {
     "ename": "AssertionError",
     "evalue": "",
     "output_type": "error",
     "traceback": [
      "\u001b[1;31m---------------------------------------------------------------------------\u001b[0m",
      "\u001b[1;31mAssertionError\u001b[0m                            Traceback (most recent call last)",
      "\u001b[1;32m<ipython-input-5-bbc6dbacf5ac>\u001b[0m in \u001b[0;36m<module>\u001b[1;34m\u001b[0m\n\u001b[0;32m      1\u001b[0m \u001b[1;31m#페이지의 제목을 체크하여 'Google'에 제대로 접속했는지 확인한다\u001b[0m\u001b[1;33m\u001b[0m\u001b[1;33m\u001b[0m\u001b[1;33m\u001b[0m\u001b[0m\n\u001b[0;32m      2\u001b[0m \u001b[1;32massert\u001b[0m \u001b[1;34m\"Google\"\u001b[0m \u001b[1;32min\u001b[0m \u001b[0mdriver\u001b[0m\u001b[1;33m.\u001b[0m\u001b[0mtitle\u001b[0m\u001b[1;33m\u001b[0m\u001b[1;33m\u001b[0m\u001b[0m\n\u001b[1;32m----> 3\u001b[1;33m \u001b[1;32massert\u001b[0m \u001b[1;34m\"Naver\"\u001b[0m \u001b[1;32min\u001b[0m \u001b[0mdriver\u001b[0m\u001b[1;33m.\u001b[0m\u001b[0mtitle\u001b[0m\u001b[1;33m\u001b[0m\u001b[1;33m\u001b[0m\u001b[0m\n\u001b[0m",
      "\u001b[1;31mAssertionError\u001b[0m: "
     ]
    }
   ],
   "source": [
    "# 페이지의 제목을 체크하여 'Google'에 제대로 접속했는지 확인한다\n",
    "# Naver사이트는 아니니 error 코드 발생하는게 당연\n",
    "assert \"Google\" in driver.title\n",
    "assert \"Naver\" in driver.title"
   ]
  },
  {
   "cell_type": "code",
   "execution_count": 7,
   "id": "material-morocco",
   "metadata": {},
   "outputs": [],
   "source": [
    "#검색 입력 부분에 커서를 올리고\n",
    "#검색 입력 부분에 다양한 명령을 내리기 위해 elem 변수에 할당한다\n",
    "#우리가 구글에서 검색할 때 검색어를 입력하기 위해 검색창에 마우스를 클릭하는 것과 같은 행위를 코드로 하는 것\n",
    "elem = driver.find_element_by_name(\"q\")"
   ]
  },
  {
   "cell_type": "code",
   "execution_count": 8,
   "id": "japanese-policy",
   "metadata": {},
   "outputs": [],
   "source": [
    "#입력 부분에 default로 값이 있을 수 있어 비운다\n",
    "elem.clear()"
   ]
  },
  {
   "cell_type": "code",
   "execution_count": 9,
   "id": "asian-syracuse",
   "metadata": {},
   "outputs": [],
   "source": [
    "#검색어를 입력한다\n",
    "elem.send_keys(\"Selenium\")"
   ]
  },
  {
   "cell_type": "code",
   "execution_count": 10,
   "id": "conventional-description",
   "metadata": {},
   "outputs": [],
   "source": [
    "#검색을 실행한다\n",
    "elem.submit()"
   ]
  },
  {
   "cell_type": "code",
   "execution_count": 11,
   "id": "measured-architecture",
   "metadata": {},
   "outputs": [],
   "source": [
    "#검색이 제대로 됐는지 확인한다\n",
    "assert \"No results found.\" not in driver.page_source"
   ]
  },
  {
   "cell_type": "code",
   "execution_count": 12,
   "id": "altered-communications",
   "metadata": {},
   "outputs": [],
   "source": [
    "#브라우저를 종료한다\n",
    "driver.close()"
   ]
  }
 ],
 "metadata": {
  "kernelspec": {
   "display_name": "Python 3",
   "language": "python",
   "name": "python3"
  },
  "language_info": {
   "codemirror_mode": {
    "name": "ipython",
    "version": 3
   },
   "file_extension": ".py",
   "mimetype": "text/x-python",
   "name": "python",
   "nbconvert_exporter": "python",
   "pygments_lexer": "ipython3",
   "version": "3.8.3"
  }
 },
 "nbformat": 4,
 "nbformat_minor": 5
}
